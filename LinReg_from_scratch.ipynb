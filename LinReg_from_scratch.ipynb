{
  "nbformat": 4,
  "nbformat_minor": 0,
  "metadata": {
    "colab": {
      "name": "LinReg_from_scratch.ipynb",
      "provenance": [],
      "collapsed_sections": [],
      "authorship_tag": "ABX9TyNjVTfNu0vBcjvDvppXevQf",
      "include_colab_link": true
    },
    "kernelspec": {
      "name": "python3",
      "display_name": "Python 3"
    },
    "language_info": {
      "name": "python"
    }
  },
  "cells": [
    {
      "cell_type": "markdown",
      "metadata": {
        "id": "view-in-github",
        "colab_type": "text"
      },
      "source": [
        "<a href=\"https://colab.research.google.com/github/hindesh-akash/ML_from_scratch/blob/main/LinReg_from_scratch.ipynb\" target=\"_parent\"><img src=\"https://colab.research.google.com/assets/colab-badge.svg\" alt=\"Open In Colab\"/></a>"
      ]
    },
    {
      "cell_type": "code",
      "execution_count": 26,
      "metadata": {
        "id": "t5TZ01f_qKzf"
      },
      "outputs": [],
      "source": [
        "import numpy as np\n",
        "import pandas as pd\n",
        "import matplotlib.pyplot as plt\n",
        "import seaborn as sns\n",
        "%matplotlib inline\n"
      ]
    },
    {
      "cell_type": "code",
      "source": [
        "w1 = 4\n",
        "w0 = 5\n",
        "n = 200\n",
        "\n",
        "X = 10*np.random.rand(n,) #initialising the feature vector\n",
        "\n",
        "y = w0 + w1*X + np.random.rand(n,) \n"
      ],
      "metadata": {
        "id": "Q-dZXdnXqXUL"
      },
      "execution_count": 27,
      "outputs": []
    },
    {
      "cell_type": "code",
      "source": [
        "def train_test_split(X,y):\n",
        "\n",
        "    permutation = np.random.permutation(X.shape[0]) #Getting random indices to reduce bias\n",
        "    test_size = int(len(permutation) * (0.8))\n",
        "    X_train = X[permutation[:test_size]]\n",
        "    X_test = X[permutation[test_size:]]\n",
        "    y_train = y[permutation[:test_size]]\n",
        "    y_test  = y[permutation[test_size:]]\n",
        "\n",
        "    return (X_train, X_test, y_train, y_test)\n"
      ],
      "metadata": {
        "id": "dpVh5E_FqZ2Z"
      },
      "execution_count": 28,
      "outputs": []
    },
    {
      "cell_type": "code",
      "source": [
        "X_train, X_test, y_train, y_test = train_test_split(X,y)"
      ],
      "metadata": {
        "id": "MeLq_p33quQs"
      },
      "execution_count": 29,
      "outputs": []
    },
    {
      "cell_type": "code",
      "source": [
        "sns.set_style('darkgrid')\n",
        "f = plt.figure(figsize=(8,8))\n",
        "sns.set_context(\"notebook\",font_scale=1.5,rc ={\"lines.linewidth\":2.5})\n",
        "\n",
        "plt.plot(X_train,y_train,\"r.\")\n",
        "plt.title(\"Plotting training data\")\n",
        "plt.grid(True)\n",
        "plt.xlabel(\"$x_1$\", fontsize=20)\n",
        "plt.ylabel(\"$y$\",rotation=0,fontsize=20)\n",
        "plt.axis([0,10,0,40])\n",
        "\n",
        "plt.show()\n"
      ],
      "metadata": {
        "colab": {
          "base_uri": "https://localhost:8080/",
          "height": 536
        },
        "id": "C-3O_14zqiLE",
        "outputId": "0d0ff6b3-419c-495b-997a-6f003135a2e1"
      },
      "execution_count": 30,
      "outputs": [
        {
          "output_type": "display_data",
          "data": {
            "text/plain": [
              "<Figure size 576x576 with 1 Axes>"
            ],
            "image/png": "[encoded data removed]"
          },
          "metadata": {}
        }
      ]
    },
    {
      "cell_type": "code",
      "source": [
        "X_test_wd = X_test\n",
        "X_train_wd = X_train"
      ],
      "metadata": {
        "id": "6wr9Q0qU5SpL"
      },
      "execution_count": 31,
      "outputs": []
    },
    {
      "cell_type": "code",
      "source": [
        "def add_dummy_feature(x):\n",
        "\n",
        "    return np.column_stack((np.ones(x.shape[0]),x))\n",
        "\n",
        "X_train = add_dummy_feature(X_train)\n",
        "X_test = add_dummy_feature(X_test)\n"
      ],
      "metadata": {
        "id": "kCrnP470q37I"
      },
      "execution_count": 32,
      "outputs": []
    },
    {
      "cell_type": "code",
      "source": [
        "X_train"
      ],
      "metadata": {
        "colab": {
          "base_uri": "https://localhost:8080/"
        },
        "id": "AC-LHk24rBrC",
        "outputId": "95a2edf0-2a43-4a8f-85b0-b459752774bc"
      },
      "execution_count": 33,
      "outputs": [
        {
          "output_type": "execute_result",
          "data": {
            "text/plain": [
              "array([[1.        , 0.9950658 ],\n",
              "       [1.        , 1.87210029],\n",
              "       [1.        , 8.99121391],\n",
              "       [1.        , 6.90454124],\n",
              "       [1.        , 3.19262089],\n",
              "       [1.        , 8.16184185],\n",
              "       [1.        , 3.79032535],\n",
              "       [1.        , 1.2659383 ],\n",
              "       [1.        , 6.17084193],\n",
              "       [1.        , 4.5467008 ],\n",
              "       [1.        , 0.81991198],\n",
              "       [1.        , 9.12906253],\n",
              "       [1.        , 6.51770943],\n",
              "       [1.        , 0.87079568],\n",
              "       [1.        , 6.89594985],\n",
              "       [1.        , 5.46080497],\n",
              "       [1.        , 2.44885353],\n",
              "       [1.        , 7.88550467],\n",
              "       [1.        , 8.83915999],\n",
              "       [1.        , 4.88781332],\n",
              "       [1.        , 9.35475455],\n",
              "       [1.        , 1.2006907 ],\n",
              "       [1.        , 3.08303991],\n",
              "       [1.        , 0.09925175],\n",
              "       [1.        , 0.69298827],\n",
              "       [1.        , 4.93105746],\n",
              "       [1.        , 4.08081871],\n",
              "       [1.        , 6.77455285],\n",
              "       [1.        , 6.74496855],\n",
              "       [1.        , 6.48401828],\n",
              "       [1.        , 2.90228155],\n",
              "       [1.        , 8.48860858],\n",
              "       [1.        , 1.68049891],\n",
              "       [1.        , 0.94128853],\n",
              "       [1.        , 2.19024307],\n",
              "       [1.        , 0.23779905],\n",
              "       [1.        , 6.10061833],\n",
              "       [1.        , 4.9273261 ],\n",
              "       [1.        , 7.05251359],\n",
              "       [1.        , 3.10281148],\n",
              "       [1.        , 0.51281282],\n",
              "       [1.        , 7.45367363],\n",
              "       [1.        , 5.13713553],\n",
              "       [1.        , 4.96625148],\n",
              "       [1.        , 8.93116162],\n",
              "       [1.        , 6.66735525],\n",
              "       [1.        , 0.84518777],\n",
              "       [1.        , 6.81930605],\n",
              "       [1.        , 8.53139436],\n",
              "       [1.        , 2.31057882],\n",
              "       [1.        , 7.62469285],\n",
              "       [1.        , 7.65786211],\n",
              "       [1.        , 9.68364489],\n",
              "       [1.        , 4.68451739],\n",
              "       [1.        , 2.95176597],\n",
              "       [1.        , 6.25702236],\n",
              "       [1.        , 6.51506915],\n",
              "       [1.        , 7.93233154],\n",
              "       [1.        , 2.37812957],\n",
              "       [1.        , 0.97233383],\n",
              "       [1.        , 4.20963685],\n",
              "       [1.        , 1.99060892],\n",
              "       [1.        , 5.48906502],\n",
              "       [1.        , 5.72801893],\n",
              "       [1.        , 4.68022233],\n",
              "       [1.        , 1.18935986],\n",
              "       [1.        , 8.89526863],\n",
              "       [1.        , 9.78763937],\n",
              "       [1.        , 3.75916111],\n",
              "       [1.        , 2.68179504],\n",
              "       [1.        , 8.26762153],\n",
              "       [1.        , 1.34656404],\n",
              "       [1.        , 7.64332175],\n",
              "       [1.        , 3.73371997],\n",
              "       [1.        , 5.02354569],\n",
              "       [1.        , 3.81622183],\n",
              "       [1.        , 7.63258984],\n",
              "       [1.        , 1.3979322 ],\n",
              "       [1.        , 1.23008964],\n",
              "       [1.        , 4.40782351],\n",
              "       [1.        , 6.2596356 ],\n",
              "       [1.        , 2.52037203],\n",
              "       [1.        , 9.55037723],\n",
              "       [1.        , 8.51684682],\n",
              "       [1.        , 1.825571  ],\n",
              "       [1.        , 1.96562588],\n",
              "       [1.        , 6.27259782],\n",
              "       [1.        , 2.39455111],\n",
              "       [1.        , 3.97773614],\n",
              "       [1.        , 8.41514747],\n",
              "       [1.        , 2.62903405],\n",
              "       [1.        , 5.48981028],\n",
              "       [1.        , 1.83349799],\n",
              "       [1.        , 3.58153174],\n",
              "       [1.        , 5.34315196],\n",
              "       [1.        , 4.27080545],\n",
              "       [1.        , 4.62726013],\n",
              "       [1.        , 8.35125702],\n",
              "       [1.        , 6.90269877],\n",
              "       [1.        , 7.31379009],\n",
              "       [1.        , 3.62584178],\n",
              "       [1.        , 0.80522398],\n",
              "       [1.        , 0.79625149],\n",
              "       [1.        , 7.16384794],\n",
              "       [1.        , 0.03719959],\n",
              "       [1.        , 1.82684364],\n",
              "       [1.        , 1.6613214 ],\n",
              "       [1.        , 6.96114271],\n",
              "       [1.        , 8.06351122],\n",
              "       [1.        , 6.23290649],\n",
              "       [1.        , 8.67934746],\n",
              "       [1.        , 7.3417973 ],\n",
              "       [1.        , 2.76742661],\n",
              "       [1.        , 9.63404615],\n",
              "       [1.        , 0.86248241],\n",
              "       [1.        , 7.22629046],\n",
              "       [1.        , 9.43365868],\n",
              "       [1.        , 9.36645553],\n",
              "       [1.        , 0.02208806],\n",
              "       [1.        , 5.89315478],\n",
              "       [1.        , 2.6289119 ],\n",
              "       [1.        , 2.11522698],\n",
              "       [1.        , 6.23420323],\n",
              "       [1.        , 6.47535163],\n",
              "       [1.        , 2.40855682],\n",
              "       [1.        , 4.14368874],\n",
              "       [1.        , 3.48309472],\n",
              "       [1.        , 7.54479555],\n",
              "       [1.        , 9.75564841],\n",
              "       [1.        , 8.98238929],\n",
              "       [1.        , 1.45021037],\n",
              "       [1.        , 1.23242111],\n",
              "       [1.        , 2.73955103],\n",
              "       [1.        , 4.06974234],\n",
              "       [1.        , 1.52309449],\n",
              "       [1.        , 5.34472969],\n",
              "       [1.        , 6.69154132],\n",
              "       [1.        , 8.89931046],\n",
              "       [1.        , 7.93018796],\n",
              "       [1.        , 9.18213767],\n",
              "       [1.        , 9.25934678],\n",
              "       [1.        , 1.5357065 ],\n",
              "       [1.        , 6.15230083],\n",
              "       [1.        , 3.32249518],\n",
              "       [1.        , 7.28551208],\n",
              "       [1.        , 1.96950142],\n",
              "       [1.        , 3.6250656 ],\n",
              "       [1.        , 6.4848808 ],\n",
              "       [1.        , 3.98892327],\n",
              "       [1.        , 5.7477636 ],\n",
              "       [1.        , 4.93829992],\n",
              "       [1.        , 7.57971746],\n",
              "       [1.        , 7.62739884],\n",
              "       [1.        , 1.28365227],\n",
              "       [1.        , 2.25812472],\n",
              "       [1.        , 9.56656215],\n",
              "       [1.        , 3.11500985],\n",
              "       [1.        , 8.01838784],\n",
              "       [1.        , 0.28242313],\n",
              "       [1.        , 4.94121921]])"
            ]
          },
          "metadata": {},
          "execution_count": 33
        }
      ]
    },
    {
      "cell_type": "code",
      "source": [
        "def predict(X,w):\n",
        "\n",
        "    #Check shape of X and w If X is (n*m) then w must be (m*1)\n",
        "\n",
        "    assert (X.shape[-1]==w.shape[0])\n",
        "    return np.dot(X,w)\n"
      ],
      "metadata": {
        "id": "zH7MZyUhrEKo"
      },
      "execution_count": 34,
      "outputs": []
    },
    {
      "cell_type": "code",
      "source": [
        "w = np.random.rand(2,)\n",
        "y_hat = predict(X_train,w)\n"
      ],
      "metadata": {
        "id": "j4aFFcCyrKBz"
      },
      "execution_count": 35,
      "outputs": []
    },
    {
      "cell_type": "code",
      "source": [
        "sns.set_style('darkgrid')\n",
        "f = plt.figure(figsize=(5,5))\n",
        "sns.set_context(\"notebook\",font_scale=1.5,rc ={\"lines.linewidth\":2.5})\n",
        "\n",
        "plt.plot(X_train_wd,y_train,\"r.\",label= \"y true\")\n",
        "plt.plot(X_train_wd,y_hat,label=\"y predicted\")\n",
        "plt.title(\"Y true vs. Y predicted\")\n",
        "plt.grid(True)\n",
        "plt.xlabel(\"$x_1$\", fontsize=20)\n",
        "plt.ylabel(\"$y$\",rotation=0,fontsize=20)\n",
        "plt.axis([0,10,0,40])\n",
        "plt.legend()\n",
        "\n",
        "plt.show()"
      ],
      "metadata": {
        "colab": {
          "base_uri": "https://localhost:8080/",
          "height": 373
        },
        "id": "XFzM_DpbKPgR",
        "outputId": "9091ebfe-32b9-422f-bf46-63239bca1daf"
      },
      "execution_count": 36,
      "outputs": [
        {
          "output_type": "display_data",
          "data": {
            "text/plain": [
              "<Figure size 360x360 with 1 Axes>"
            ],
            "image/png": "[encoded data removed]"
          },
          "metadata": {}
        }
      ]
    },
    {
      "cell_type": "code",
      "source": [
        ""
      ],
      "metadata": {
        "id": "0e4SVi6NrTPG"
      },
      "execution_count": 36,
      "outputs": []
    },
    {
      "cell_type": "code",
      "source": [
        "w"
      ],
      "metadata": {
        "id": "BWUgwK3BrXpR",
        "colab": {
          "base_uri": "https://localhost:8080/"
        },
        "outputId": "4d558284-75b3-41ec-fa32-edeaee30e962"
      },
      "execution_count": 37,
      "outputs": [
        {
          "output_type": "execute_result",
          "data": {
            "text/plain": [
              "array([0.74594391, 0.93757679])"
            ]
          },
          "metadata": {},
          "execution_count": 37
        }
      ]
    },
    {
      "cell_type": "code",
      "source": [
        "y_hat"
      ],
      "metadata": {
        "id": "swP_GWf_rNAS",
        "colab": {
          "base_uri": "https://localhost:8080/"
        },
        "outputId": "cb42a5df-2735-419d-818a-9c8a58bfd518"
      },
      "execution_count": 38,
      "outputs": [
        {
          "output_type": "execute_result",
          "data": {
            "text/plain": [
              "array([1.67889451, 2.50118168, 9.17589738, 7.21948151, 3.73927115,\n",
              "       8.39829738, 4.29966498, 1.93285827, 6.53158207, 5.00882504,\n",
              "       1.51467435, 9.30514104, 6.85679699, 1.56238172, 7.21142643,\n",
              "       5.86586789, 3.04193214, 8.13921005, 9.03333515, 5.32864422,\n",
              "       9.51674464, 1.87168364, 3.63653057, 0.83900004, 1.39567362,\n",
              "       5.36918893, 4.57202481, 7.09760741, 7.06986986, 6.82520895,\n",
              "       3.46705573, 8.70466628, 2.32154068, 1.62847418, 2.79946498,\n",
              "       0.96889878, 6.46574205, 5.36569049, 7.35821696, 3.65506793,\n",
              "       1.2267453 , 7.7343353 , 5.56240294, 5.40218602, 9.11959374,\n",
              "       6.99710143, 1.53837235, 7.13956697, 8.74478124, 2.91228898,\n",
              "       7.89467895, 7.92577768, 9.82510459, 5.13803868, 3.51345117,\n",
              "       6.61238284, 6.85432152, 8.18311384, 2.975623  , 1.65758154,\n",
              "       4.69280171, 2.61229263, 5.89236386, 6.1164015 , 5.13401173,\n",
              "       1.86106011, 9.08594131, 9.9226074 , 4.27044611, 3.26033269,\n",
              "       8.49747396, 2.0084511 , 7.91214498, 4.24659309, 5.45590375,\n",
              "       4.32394491, 7.90208298, 2.05661269, 1.8992474 , 4.87861692,\n",
              "       6.61483295, 3.10898622, 9.70015593, 8.7311418 , 2.45755691,\n",
              "       2.58886911, 6.62698603, 2.99101945, 4.47537698, 8.63579085,\n",
              "       3.21086521, 5.89306261, 2.46498906, 4.10390494, 5.75555916,\n",
              "       4.75015197, 5.0843556 , 8.57588865, 7.21775405, 7.60318373,\n",
              "       4.145449  , 1.50090322, 1.49249082, 7.46260145, 0.78082138,\n",
              "       2.4587501 , 2.30356029, 7.27254974, 8.30610487, 6.58977236,\n",
              "       8.88349863, 7.62944265, 3.34061886, 9.77860196, 1.55458739,\n",
              "       7.52114611, 9.59072332, 9.52771521, 0.76665316, 6.27122904,\n",
              "       3.21075068, 2.72913163, 6.59098816, 6.8170833 , 3.00415088,\n",
              "       4.63097029, 4.01161267, 7.81976909, 9.89261342, 9.16762362,\n",
              "       2.10562749, 1.90143333, 3.31448337, 4.56163986, 2.17396195,\n",
              "       5.7570384 , 7.01977773, 9.08973083, 8.18110407, 9.35490306,\n",
              "       9.42729253, 2.18578667, 6.51419837, 3.86103827, 7.57667093,\n",
              "       2.59250272, 4.14472127, 6.82601762, 4.48586578, 6.13491364,\n",
              "       5.37597929, 7.85251107, 7.89721603, 1.94946648, 2.86310923,\n",
              "       9.71533053, 3.66650484, 8.26379824, 1.01073728, 5.37871635])"
            ]
          },
          "metadata": {},
          "execution_count": 38
        }
      ]
    },
    {
      "cell_type": "code",
      "source": [
        "def loss(X,y,w):\n",
        "\n",
        "    e = predict(X,w) -y \n",
        "\n",
        "    return (1/2)*(e.T@e)\n"
      ],
      "metadata": {
        "id": "jFkad7FUrP_s"
      },
      "execution_count": 39,
      "outputs": []
    },
    {
      "cell_type": "code",
      "source": [
        "incurred_loss = loss(X_train,y_train,w)"
      ],
      "metadata": {
        "id": "iu3iRugLsJlO"
      },
      "execution_count": 40,
      "outputs": []
    },
    {
      "cell_type": "code",
      "source": [
        "incurred_loss"
      ],
      "metadata": {
        "id": "DvSwQDqIuJ0r",
        "colab": {
          "base_uri": "https://localhost:8080/"
        },
        "outputId": "d435b0af-1aa9-480e-c402-44fd73d754fa"
      },
      "execution_count": 41,
      "outputs": [
        {
          "output_type": "execute_result",
          "data": {
            "text/plain": [
              "37371.86597066086"
            ]
          },
          "metadata": {},
          "execution_count": 41
        }
      ]
    },
    {
      "cell_type": "code",
      "source": [
        "def normal_equation(X,y):\n",
        "\n",
        "    w = np.linalg.pinv(X)@y\n",
        "\n",
        "    return w"
      ],
      "metadata": {
        "id": "J3VbI3lRuLTo"
      },
      "execution_count": 42,
      "outputs": []
    },
    {
      "cell_type": "code",
      "source": [
        "w_ne = normal_equation(X_train,y_train)"
      ],
      "metadata": {
        "id": "6r2tlPwVy8ne"
      },
      "execution_count": 43,
      "outputs": []
    },
    {
      "cell_type": "code",
      "source": [
        "w_ne"
      ],
      "metadata": {
        "id": "wVnWDC8NzEf1",
        "colab": {
          "base_uri": "https://localhost:8080/"
        },
        "outputId": "97f0851e-b806-446a-c873-2c82b94fae4b"
      },
      "execution_count": 44,
      "outputs": [
        {
          "output_type": "execute_result",
          "data": {
            "text/plain": [
              "array([5.54215054, 3.99408629])"
            ]
          },
          "metadata": {},
          "execution_count": 44
        }
      ]
    },
    {
      "cell_type": "code",
      "source": [
        "test_loss = loss(X_test,y_test,w_ne)"
      ],
      "metadata": {
        "id": "X7IFgrWYzFp3"
      },
      "execution_count": 49,
      "outputs": []
    },
    {
      "cell_type": "code",
      "source": [
        "test_loss"
      ],
      "metadata": {
        "id": "HFTUbyuRzQSP",
        "colab": {
          "base_uri": "https://localhost:8080/"
        },
        "outputId": "7ce70024-e4fb-4371-9b3e-f5134f14baa5"
      },
      "execution_count": 50,
      "outputs": [
        {
          "output_type": "execute_result",
          "data": {
            "text/plain": [
              "1.5020615240832738"
            ]
          },
          "metadata": {},
          "execution_count": 50
        }
      ]
    },
    {
      "cell_type": "code",
      "source": [
        "y_hat = predict(X_test,w_ne)"
      ],
      "metadata": {
        "id": "PusvMAls5dn9"
      },
      "execution_count": 47,
      "outputs": []
    },
    {
      "cell_type": "code",
      "source": [
        "fig, ax = plt.subplots()\n",
        "\n",
        "ax.scatter(X_test_wd,y_test)\n",
        "ax.plot(X_test_wd,y_hat,color='green')\n",
        "plt.xlabel(\"X\")\n",
        "plt.ylabel(\"y\")\n",
        "plt.show()"
      ],
      "metadata": {
        "id": "VMj7kjarzRpI",
        "colab": {
          "base_uri": "https://localhost:8080/",
          "height": 298
        },
        "outputId": "b8973bcc-73a0-4a90-9a91-18715717969b"
      },
      "execution_count": 91,
      "outputs": [
        {
          "output_type": "display_data",
          "data": {
            "text/plain": [
              "<Figure size 432x288 with 1 Axes>"
            ],
            "image/png": "[encoded data removed]"
          },
          "metadata": {}
        }
      ]
    },
    {
      "cell_type": "code",
      "source": [
        "def calculate_gradient(X,y,w):\n",
        "    return np.transpose(X)@(predict(X,w)-y)\n",
        "\n",
        "def update_weight(w,grad,lr):\n",
        "    return (w-lr*grad)\n",
        "\n",
        "def gradient_descent(X,y,lr,epochs):\n",
        "\n",
        "    w = np.zeros(X.shape[1])\n",
        "    for i in np.arange(0,epochs):\n",
        "        dJdw = calculate_gradient(X,y,w)\n",
        "        w = update_weight(w,dJdw,lr)\n",
        "\n",
        "    return w"
      ],
      "metadata": {
        "id": "X9aXaAgy4aOK"
      },
      "execution_count": 52,
      "outputs": []
    },
    {
      "cell_type": "code",
      "source": [
        "w_gd = gradient_descent(X_train,y_train,lr=0.00001,epochs=2500)"
      ],
      "metadata": {
        "id": "9wIaFMgsqn6E"
      },
      "execution_count": 88,
      "outputs": []
    },
    {
      "cell_type": "code",
      "source": [
        "w_gd"
      ],
      "metadata": {
        "colab": {
          "base_uri": "https://localhost:8080/"
        },
        "id": "_d51k6ZzrkLn",
        "outputId": "c8d5cc5c-1753-4f8c-bbba-428e3e6a6f95"
      },
      "execution_count": 86,
      "outputs": [
        {
          "output_type": "execute_result",
          "data": {
            "text/plain": [
              "array([5.50706742, 3.99948102])"
            ]
          },
          "metadata": {},
          "execution_count": 86
        }
      ]
    },
    {
      "cell_type": "code",
      "source": [
        ""
      ],
      "metadata": {
        "id": "rJLvFW-fwyBP"
      },
      "execution_count": null,
      "outputs": []
    },
    {
      "cell_type": "code",
      "source": [
        "def rmse(X,w,y):\n",
        "\n",
        "    rmserror = np.sqrt((2*loss(X,w,y)/n)) # 2 is multiplied for the 1/2 factor in loss function\n",
        "\n",
        "    return rmserror"
      ],
      "metadata": {
        "id": "xdkwVvwsro-S"
      },
      "execution_count": 75,
      "outputs": []
    },
    {
      "cell_type": "code",
      "source": [
        "gd_error = rmse(X_test,y_test,w_gd)\n",
        "gd_error"
      ],
      "metadata": {
        "colab": {
          "base_uri": "https://localhost:8080/"
        },
        "id": "5glFFMDNwUtA",
        "outputId": "9c403d0a-3fda-462a-f962-874a12aa6180"
      },
      "execution_count": 89,
      "outputs": [
        {
          "output_type": "execute_result",
          "data": {
            "text/plain": [
              "0.3832361486054885"
            ]
          },
          "metadata": {},
          "execution_count": 89
        }
      ]
    },
    {
      "cell_type": "code",
      "source": [
        "ne_error = rmse(X_test,y_test,w_ne)\n",
        "ne_error"
      ],
      "metadata": {
        "colab": {
          "base_uri": "https://localhost:8080/"
        },
        "id": "CQ7TIODwwbUl",
        "outputId": "e49aac3b-36f4-49a8-ee8f-560bbe343c85"
      },
      "execution_count": 84,
      "outputs": [
        {
          "output_type": "execute_result",
          "data": {
            "text/plain": [
              "0.12255861961050613"
            ]
          },
          "metadata": {},
          "execution_count": 84
        }
      ]
    },
    {
      "cell_type": "code",
      "source": [
        ""
      ],
      "metadata": {
        "id": "DfKp2FW3whF0"
      },
      "execution_count": null,
      "outputs": []
    }
  ]
}